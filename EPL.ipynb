{
 "cells": [
  {
   "cell_type": "markdown",
   "id": "1a4b2c6f",
   "metadata": {},
   "source": [
    "Introduction"
   ]
  },
  {
   "cell_type": "markdown",
   "id": "27c4d6f7",
   "metadata": {},
   "source": [
    "The Premier League, often referred outside England as the English Premier League or the EPL for short, is the top level of the English football league system. Contested by 20 clubs, it operates on a system of promotion and relegation with the English Football League (EFL). Seasons run from August to May with each team playing 38 matches (playing all 19 other teams both home and away)"
   ]
  },
  {
   "cell_type": "markdown",
   "id": "82fdac10",
   "metadata": {},
   "source": [
    "The Dataset"
   ]
  },
  {
   "cell_type": "markdown",
   "id": "f744828f",
   "metadata": {},
   "source": [
    "The dataset is correct upto and including 2020-09-24 (a lot has has happened since then, notebook will be updated when the dataset gets an update). Each row in the data represents a football player currently playing in the EPL and the columns are features used to discribe players' data and game statistics. There are 571 rows and 59 columns in the data."
   ]
  },
  {
   "cell_type": "markdown",
   "id": "aebf9aab",
   "metadata": {},
   "source": [
    "Name: Name of the player\n",
    "Club: Club the player plays for at present\n",
    "Position: Playing position(Goalkeeper, Defender, Mid-fider, Forward)\n",
    "Nationality: Country the player is from\n",
    "Age: Players age\n",
    "Appearances: Number of games played (a substitute appearance aslo counts)\n",
    "Wins: Number of games the palyer has won\n",
    "Losses: Number of games the palyer has lost\n",
    "Goals: Number of goals the player has scored in the EPL\n",
    "Goals per match: Goals scored per game\n",
    "etcetra"
   ]
  },
  {
   "cell_type": "code",
   "execution_count": null,
   "id": "bec99c7d",
   "metadata": {},
   "outputs": [
    {
     "ename": "ModuleNotFoundError",
     "evalue": "No module named 'plotly'",
     "output_type": "error",
     "traceback": [
      "\u001b[31m---------------------------------------------------------------------------\u001b[39m",
      "\u001b[31mModuleNotFoundError\u001b[39m                       Traceback (most recent call last)",
      "\u001b[36mCell\u001b[39m\u001b[36m \u001b[39m\u001b[32mIn[17]\u001b[39m\u001b[32m, line 6\u001b[39m\n\u001b[32m      4\u001b[39m pd.set_option(\u001b[33m'\u001b[39m\u001b[33mmode.chained_assignment\u001b[39m\u001b[33m'\u001b[39m, \u001b[38;5;28;01mNone\u001b[39;00m)\n\u001b[32m      5\u001b[39m \u001b[38;5;28;01mimport\u001b[39;00m\u001b[38;5;250m \u001b[39m\u001b[34;01mseaborn\u001b[39;00m\u001b[38;5;250m \u001b[39m\u001b[38;5;28;01mas\u001b[39;00m\u001b[38;5;250m \u001b[39m\u001b[34;01msns\u001b[39;00m\n\u001b[32m----> \u001b[39m\u001b[32m6\u001b[39m \u001b[38;5;28;01mimport\u001b[39;00m\u001b[38;5;250m \u001b[39m\u001b[34;01mplotly\u001b[39;00m\u001b[34;01m.\u001b[39;00m\u001b[34;01mio\u001b[39;00m\u001b[38;5;250m \u001b[39m\u001b[38;5;28;01mas\u001b[39;00m\u001b[38;5;250m \u001b[39m\u001b[34;01mpio\u001b[39;00m\n\u001b[32m      7\u001b[39m pio.renderers.default = \u001b[33m'\u001b[39m\u001b[33mnotebook\u001b[39m\u001b[33m'\u001b[39m  \u001b[38;5;66;03m# Use 'notebook' for Jupyter compatibility\u001b[39;00m\n\u001b[32m      8\u001b[39m \u001b[38;5;28;01mimport\u001b[39;00m\u001b[38;5;250m \u001b[39m\u001b[34;01mplotly\u001b[39;00m\u001b[34;01m.\u001b[39;00m\u001b[34;01mexpress\u001b[39;00m\u001b[38;5;250m \u001b[39m\u001b[38;5;28;01mas\u001b[39;00m\u001b[38;5;250m \u001b[39m\u001b[34;01mpx\u001b[39;00m\n",
      "\u001b[31mModuleNotFoundError\u001b[39m: No module named 'plotly'"
     ]
    }
   ],
   "source": [
    "import numpy as np\n",
    "import matplotlib.pyplot as plt\n",
    "import pandas as pd\n",
    "pd.set_option('mode.chained_assignment', None)\n",
    "import seaborn as sns\n",
    "import plotly.io as pio\n",
    "pio.renderers.default = 'notebook'  # Use 'notebook' for Jupyter compatibility\n",
    "import plotly.express as px\n",
    "import plotly.graph_objects as go\n",
    "from plotly.offline import init_notebook_mode, iplot\n",
    "init_notebook_mode(connected=True)\n",
    "\n",
    "# Load your dataset from the correct path\n",
    "data = pd.read_csv(r'D:\\Prediction of English Premier League\\EPL_dataset.csv')\n",
    "data = data.copy()\n",
    "\n",
    "print('Shape of the dataset is {}'.format(data.shape))\n",
    "data.head()"
   ]
  }
 ],
 "metadata": {
  "kernelspec": {
   "display_name": "Python 3",
   "language": "python",
   "name": "python3"
  },
  "language_info": {
   "codemirror_mode": {
    "name": "ipython",
    "version": 3
   },
   "file_extension": ".py",
   "mimetype": "text/x-python",
   "name": "python",
   "nbconvert_exporter": "python",
   "pygments_lexer": "ipython3",
   "version": "3.13.5"
  }
 },
 "nbformat": 4,
 "nbformat_minor": 5
}
